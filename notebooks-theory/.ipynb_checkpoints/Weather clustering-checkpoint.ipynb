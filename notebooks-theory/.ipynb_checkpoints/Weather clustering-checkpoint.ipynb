{
 "cells": [
  {
   "cell_type": "markdown",
   "id": "00cc78b0-7120-41e4-a283-4930d31b6cc5",
   "metadata": {},
   "source": [
    "It is recommended to run this ipynb in Google Colab\n",
    "<table align=\"center\">\n",
    " <td align=\"center\"><a target=\"_blank\" href=\"https://colab.research.google.com/github/Danitg95/intro_unsupervised/blob/main/notebooks-theory/Weather clustering.ipynb\">\n",
    "        <img src=\"https://colab.research.google.com/img/colab_favicon_256px.png\"  width=\"50\" height=\"50\" style=\"padding-bottom:5px;\" />Run in Google Colab</a></td>"
   ]
  },
  {
   "cell_type": "code",
   "execution_count": null,
   "id": "732b520c-92be-425c-af10-3652b40ca244",
   "metadata": {},
   "outputs": [],
   "source": [
    "import requests\n",
    "import pandas as pd\n",
    "import io\n",
    "url = 'https://raw.githubusercontent.com/Danitg95/intro_unsupervised/main/data/weatherHistory.csv'\n",
    "df = pd.read_csv(url)\n",
    "df.head()"
   ]
  }
 ],
 "metadata": {
  "kernelspec": {
   "display_name": "Python 3 (ipykernel)",
   "language": "python",
   "name": "python3"
  },
  "language_info": {
   "codemirror_mode": {
    "name": "ipython",
    "version": 3
   },
   "file_extension": ".py",
   "mimetype": "text/x-python",
   "name": "python",
   "nbconvert_exporter": "python",
   "pygments_lexer": "ipython3",
   "version": "3.8.2"
  }
 },
 "nbformat": 4,
 "nbformat_minor": 5
}
