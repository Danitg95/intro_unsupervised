{
  "nbformat": 4,
  "nbformat_minor": 0,
  "metadata": {
    "colab": {
      "provenance": [],
      "authorship_tag": "ABX9TyOKuN0SMiGptJRDzMIpNwjF",
      "include_colab_link": true
    },
    "kernelspec": {
      "name": "python3",
      "display_name": "Python 3"
    },
    "language_info": {
      "name": "python"
    }
  },
  "cells": [
    {
      "cell_type": "markdown",
      "metadata": {
        "id": "view-in-github",
        "colab_type": "text"
      },
      "source": [
        "<a href=\"https://colab.research.google.com/github/dtoralg/intro_unsupervised/blob/main/notebooks/E3_Principal_Component_Analysis.ipynb\" target=\"_parent\"><img src=\"https://colab.research.google.com/assets/colab-badge.svg\" alt=\"Open In Colab\"/></a>"
      ]
    },
    {
      "cell_type": "markdown",
      "metadata": {
        "id": "Z14_gFVCCp56"
      },
      "source": [
        "# Ejercicio de Análisis de Componentes Principales (PCA): Análisis del Dataset IRIS\n"
      ]
    },
    {
      "cell_type": "markdown",
      "metadata": {
        "id": "LWW4ZGKRXbRw"
      },
      "source": [
        "El análisis de componentes principales o PCA es una técnica muy utilizada de **reducción dimensional**. Es una técnica lineal, es decir, solo captura **relaciones lineales** entre las variables."
      ]
    },
    {
      "cell_type": "markdown",
      "metadata": {
        "id": "wjA9sdxDbn03"
      },
      "source": [
        "La técnica de PCA busca encontrar unos ejes (llamados componentes principales) que consigan que la **covarianza entre cada par de variables sea cero**.\n",
        "\n",
        "Adicionalmente estos ejes se **ordenan de mayor a menor varianza**, siendo los primeros componentes principales los que mayor información contienen."
      ]
    },
    {
      "cell_type": "markdown",
      "metadata": {
        "id": "FS4CQr1aelpW"
      },
      "source": [
        "Una vez definidos estos ejes, podemos **eliminar los componentes principales de menor varianza** para conseguir una reducción dimensional que conserva gran parte de la información original."
      ]
    },
    {
      "cell_type": "markdown",
      "source": [
        "\n",
        "## Introducción\n",
        "\n",
        "En este tercer ejercicio vamos a realizar un Análisis de Componentes Principales (PCA), donde aplicaremos técnicas de reducción dimensional para analizar y visualizar el famoso dataset IRIS. PCA es una técnica muy potente que nos permite transformar un conjunto de variables posiblemente correlacionadas en un conjunto más pequeño de variables no correlacionadas, llamadas componentes principales.\n",
        "\n",
        "### Objetivos del Ejercicio\n",
        "\n",
        "- **Comprender los conceptos básicos del PCA** y su utilidad en el análisis de datos.\n",
        "- **Preprocesar los datos** del dataset IRIS para prepararlos adecuadamente para el análisis.\n",
        "- **Aplicar PCA** para reducir la dimensionalidad de los datos del IRIS.\n",
        "- **Visualizar los resultados de PCA** en 2D y 3D para interpretar las relaciones entre las muestras.\n",
        "\n",
        "### Descripción del Dataset IRIS\n",
        "\n",
        "El dataset IRIS es uno de los conjuntos de datos más conocidos y utilizados en el campo del Machine Learning y la estadística. Contiene 150 muestras de flores, cada una descrita por cuatro características métricas:\n",
        "\n",
        "- **Sepal Length (cm):** Longitud del sépalo\n",
        "- **Sepal Width (cm):** Ancho del sépalo\n",
        "- **Petal Length (cm):** Longitud del pétalo\n",
        "- **Petal Width (cm):** Ancho del pétalo\n",
        "\n",
        "Además, cada muestra está etiquetada con una de las tres especies de iris:\n",
        "\n",
        "- **Iris-setosa**\n",
        "- **Iris-versicolor**\n",
        "- **Iris-virginica**\n",
        "\n",
        "En este ejercicio, utilizaremos las características métricas para realizar PCA y analizaremos cómo las nuevas componentes principales nos ayudan a entender y visualizar mejor los datos.\n",
        "\n",
        "### Estructura del Notebook\n",
        "\n",
        "1. **Importación de Librerías y Carga de Datos:** Preparar el entorno de trabajo e importar el dataset IRIS.\n",
        "2. **Exploración de Datos:** Analizar las características principales del dataset IRIS.\n",
        "3. **Preprocesamiento de Datos:** Normalizar los datos para asegurar que todas las características contribuyan equitativamente al análisis.\n",
        "4. **Aplicación de PCA:** Implementar PCA para reducir la dimensionalidad de los datos.\n",
        "5. **Visualización de Resultados:** Graficar las componentes principales en 2D y 3D para interpretar los clusters formados.\n",
        "6. **Evaluación de Varianza Explicada:** Analizar la proporción de varianza explicada por cada componente principal.\n",
        "7. **Discusión y Conclusiones:** Extraer insights y conclusiones a partir de los resultados obtenidos.\n",
        "\n",
        "### Requisitos\n",
        "\n",
        "Para seguir este notebook, asegúrate de tener instaladas las siguientes librerías de Python:\n",
        "\n",
        "- `numpy`\n",
        "- `pandas`\n",
        "- `matplotlib`\n",
        "- `seaborn`\n",
        "- `scikit-learn`\n",
        "\n",
        "Puedes instalarlas utilizando el siguiente comando:\n",
        "\n",
        "```bash\n",
        "pip install numpy pandas matplotlib seaborn scikit-learn\n"
      ],
      "metadata": {
        "id": "B2DD2FjrVob4"
      }
    },
    {
      "cell_type": "markdown",
      "metadata": {
        "id": "5Q-DUBW5fUFn"
      },
      "source": [
        "##### Ejemplo en `sklearn`"
      ]
    },
    {
      "cell_type": "code",
      "metadata": {
        "id": "ubb2pAcofbTk"
      },
      "source": [
        "from sklearn.datasets import load_breast_cancer\n",
        "from sklearn.preprocessing import StandardScaler\n",
        "from sklearn.decomposition import PCA\n",
        "\n",
        "dataset = load_breast_cancer()\n",
        "\n",
        "X = dataset.data\n",
        "\n",
        "# Normalizamos los datos a media 0 y varianza 1, de manera que los componentes\n",
        "# sean comparables.\n",
        "\n",
        "# El método fit transform es una utilidad que combina las operaciones fit y\n",
        "# transform.\n",
        "X_norm = StandardScaler().fit_transform(X)\n",
        "\n",
        "# Construimos y entrenamos el algoritmo.\n",
        "pca = PCA().fit(X_norm)\n",
        "\n",
        "# Calculamos los datos proyectados en los nuevos ejes.\n",
        "X_t = pca.transform(X_norm)"
      ],
      "execution_count": null,
      "outputs": []
    },
    {
      "cell_type": "markdown",
      "metadata": {
        "id": "cgaNoD3aQiZs"
      },
      "source": [
        "Podemos visualizar el porcentaje de varianza explicada por cada componente mediante el atributo `explained_variance_ratio`.\n",
        "\n",
        "Este gráfico se puede interpretar como la información que retenemos del dataset original si únicamente nos quedamos con $n$ componentes."
      ]
    },
    {
      "cell_type": "code",
      "metadata": {
        "colab": {
          "base_uri": "https://localhost:8080/",
          "height": 388
        },
        "id": "MdAjlC5JOiMu",
        "outputId": "699e2324-b8c7-42ef-9f0f-e3ac8a39764d"
      },
      "source": [
        "fig, ax = plt.subplots(figsize = (10, 4))\n",
        "ax.set_ylabel(\"% varianza explicada acumulada\")\n",
        "ax.set_xlabel(\"Componente\")\n",
        "ax.bar(\n",
        "    [f\"{i + 1}\" for i in range(pca.n_components_)],\n",
        "    np.cumsum(pca.explained_variance_ratio_),\n",
        "    alpha = 0.6\n",
        ")\n",
        "plt.show()"
      ],
      "execution_count": null,
      "outputs": [
        {
          "output_type": "display_data",
          "data": {
            "text/plain": [
              "<Figure size 1000x400 with 1 Axes>"
            ],
            "image/png": "[encoded data removed]"
          },
          "metadata": {}
        }
      ]
    },
    {
      "cell_type": "markdown",
      "metadata": {
        "id": "0vBWwqd9Q2H3"
      },
      "source": [
        "En este caso, con el primer componente ya nos quedamos con aproximadamente un 42% de la información.\n",
        "\n",
        "Si cogemos 15 componentes ya tendríamos prácticamente toda la información explicada. Esto quiere decir que si entrenamos un clasificador con únicamente las 15 primeras columnas del dataset transformado debería tener una *performance* similar a entrenarlo con las 30 columnas de los datos originales, con lo que habríamos reducido la dimensionalidad a la mitad."
      ]
    },
    {
      "cell_type": "markdown",
      "metadata": {
        "id": "mmRAo1wTRZC6"
      },
      "source": [
        "También podemos obtener del objeto entrenado los *componentes*, que representan las direcciones de los nuevos ejes creados. También se puede interpretar como el peso que tiene cada variable original sobre cada variable transformada."
      ]
    },
    {
      "cell_type": "code",
      "metadata": {
        "colab": {
          "base_uri": "https://localhost:8080/"
        },
        "id": "kLCdJ2qJRYVd",
        "outputId": "9458aaf8-8e48-4541-c532-4c4ca6dad984"
      },
      "source": [
        "pca.components_[:, 0]"
      ],
      "execution_count": null,
      "outputs": [
        {
          "output_type": "execute_result",
          "data": {
            "text/plain": [
              "array([ 0.21890244, -0.23385713, -0.00853124,  0.04140896,  0.03778635,\n",
              "        0.01874079, -0.12408834, -0.0074523 , -0.22310976,  0.09548644,\n",
              "        0.04147149,  0.05106746,  0.01196721,  0.05950613,  0.05111877,\n",
              "       -0.15058388,  0.20292425,  0.14671234, -0.22538466, -0.04969866,\n",
              "       -0.06857001,  0.0729289 , -0.09855269,  0.18257944,  0.0192265 ,\n",
              "       -0.1294764 , -0.13152667,  0.21119401,  0.21146046, -0.70241409])"
            ]
          },
          "metadata": {},
          "execution_count": 27
        }
      ]
    }
  ]
}