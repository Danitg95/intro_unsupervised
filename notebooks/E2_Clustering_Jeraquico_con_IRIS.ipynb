{
  "nbformat": 4,
  "nbformat_minor": 0,
  "metadata": {
    "colab": {
      "provenance": [],
      "authorship_tag": "ABX9TyO5ADXFzQ2zNL6f8uUHD95m",
      "include_colab_link": true
    },
    "kernelspec": {
      "name": "python3",
      "display_name": "Python 3"
    },
    "language_info": {
      "name": "python"
    }
  },
  "cells": [
    {
      "cell_type": "markdown",
      "metadata": {
        "id": "view-in-github",
        "colab_type": "text"
      },
      "source": [
        "<a href=\"https://colab.research.google.com/github/dtoralg/intro_unsupervised/blob/main/notebooks/E2_Clustering_Jeraquico_con_IRIS.ipynb\" target=\"_parent\"><img src=\"https://colab.research.google.com/assets/colab-badge.svg\" alt=\"Open In Colab\"/></a>"
      ]
    },
    {
      "cell_type": "markdown",
      "source": [
        "# Ejercicio de Clustering Jerárquico: Discriminación de outliers con IRIS\n"
      ],
      "metadata": {
        "id": "BKNOuvtMX_Lp"
      }
    },
    {
      "cell_type": "markdown",
      "source": [
        "\n",
        "## Introducción e información previa"
      ],
      "metadata": {
        "id": "EZ0j_JJxXx6M"
      }
    },
    {
      "cell_type": "markdown",
      "source": [
        "Segundo ejercicio práctico, donde aplicaremos técnicas de aprendizaje no supervisado para agrupar diferentes tipos de flores del famoso dataset IRIS. Este ejercicio tiene como objetivo identificar grupos naturales en los datos, facilitando la comprensión de las relaciones y similitudes entre las muestras de flores.\n",
        "\n",
        "### Objetivos del Ejercicio\n",
        "\n",
        "- **Comprender los conceptos básicos del clustering jerárquico** y cómo se aplica en el contexto de análisis de datos.\n",
        "- **Preprocesar los datos** del dataset IRIS para prepararlos adecuadamente para el análisis.\n",
        "- **Implementar clustering jerárquico** utilizando métodos como el enlace completo, el enlace simple y el enlace promedio.\n",
        "- **Visualizar los dendrogramas** para interpretar los resultados del clustering jerárquico.\n",
        "- **Evaluar la calidad de los clusters** y discutir los insights obtenidos.\n",
        "\n",
        "### Descripción del Dataset IRIS\n",
        "\n",
        "El dataset IRIS es uno de los conjuntos de datos más conocidos y utilizados en el campo del Machine Learning y la estadística. Contiene 150 muestras de flores, cada una descrita por cuatro características métricas:\n",
        "\n",
        "- **Sepal Length (cm):** Longitud del sépalo\n",
        "- **Sepal Width (cm):** Ancho del sépalo\n",
        "- **Petal Length (cm):** Longitud del pétalo\n",
        "- **Petal Width (cm):** Ancho del pétalo\n",
        "\n",
        "Además, cada muestra está etiquetada con una de las tres especies de iris:\n",
        "\n",
        "- **Iris-setosa**\n",
        "- **Iris-versicolor**\n",
        "- **Iris-virginica**\n",
        "\n",
        "En este ejercicio, utilizaremos las características métricas para realizar clustering jerárquico y analizaremos cómo se agrupan las muestras sin usar las etiquetas de especie durante el proceso de agrupamiento.\n",
        "\n",
        "### Estructura del Notebook\n",
        "\n",
        "1. **Importación de Librerías y Carga de Datos:** Preparar el entorno de trabajo e importar el dataset IRIS.\n",
        "2. **Exploración de Datos:** Analizar las características principales del dataset IRIS.\n",
        "3. **Preprocesamiento de Datos:** Normalizar los datos para asegurar que todas las características contribuyan equitativamente al análisis.\n",
        "4. **Aplicación de Clustering Jerárquico:** Implementar varios métodos de enlace y construir dendrogramas.\n",
        "5. **Visualización de Dendrogramas:** Graficar y analizar los dendrogramas resultantes para interpretar los clusters formados.\n",
        "6. **Evaluación de Resultados:** Utilizar métricas de evaluación para analizar la calidad de los clusters.\n",
        "7. **Discusión y Conclusiones:** Extraer insights y conclusiones a partir de los resultados obtenidos.\n",
        "\n",
        "### Requisitos\n",
        "\n",
        "Para seguir este notebook, asegúrate de tener instaladas las siguientes librerías de Python:\n",
        "\n",
        "- `numpy`\n",
        "- `pandas`\n",
        "- `matplotlib`\n",
        "- `seaborn`\n",
        "- `scipy`\n",
        "- `scikit-learn`\n",
        "\n",
        "Puedes instalarlas utilizando el siguiente comando:\n",
        "\n",
        "```bash\n",
        "pip install numpy pandas matplotlib seaborn scipy scikit-learn\n"
      ],
      "metadata": {
        "id": "PIDZAEU5X62D"
      }
    },
    {
      "cell_type": "markdown",
      "source": [
        "## LOF\n"
      ],
      "metadata": {
        "id": "4p7y5lYhX0TM"
      }
    },
    {
      "cell_type": "markdown",
      "source": [
        "## Isolation Forest\n"
      ],
      "metadata": {
        "id": "FESYW3mlX1OX"
      }
    }
  ]
}